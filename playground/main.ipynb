{
 "cells": [
  {
   "metadata": {
    "ExecuteTime": {
     "end_time": "2025-08-19T15:00:07.922704Z",
     "start_time": "2025-08-19T15:00:07.522802Z"
    }
   },
   "cell_type": "code",
   "source": "%matplotlib inline",
   "id": "9ff88cd96adee5e6",
   "outputs": [],
   "execution_count": 1
  },
  {
   "metadata": {
    "ExecuteTime": {
     "end_time": "2025-08-17T11:22:56.487482Z",
     "start_time": "2025-08-17T11:22:56.485327Z"
    }
   },
   "cell_type": "code",
   "source": [
    "from datasets.GrayscaleShapes import ShapeDataset\n",
    "shapes = ShapeDataset()"
   ],
   "id": "1535d07f61de6217",
   "outputs": [],
   "execution_count": 16
  },
  {
   "metadata": {
    "ExecuteTime": {
     "end_time": "2025-08-17T11:19:33.530639Z",
     "start_time": "2025-08-17T11:19:33.528480Z"
    }
   },
   "cell_type": "code",
   "source": [
    "import torchvision.transforms as T\n",
    "transform = T.ToPILImage()\n",
    "pil_image = transform()"
   ],
   "id": "d6c5be7d912f21f6",
   "outputs": [],
   "execution_count": 8
  },
  {
   "metadata": {
    "jupyter": {
     "is_executing": true
    }
   },
   "cell_type": "code",
   "source": "",
   "id": "c2a638608cbd9e09",
   "outputs": [],
   "execution_count": null
  }
 ],
 "metadata": {
  "kernelspec": {
   "display_name": "Python 3",
   "language": "python",
   "name": "python3"
  },
  "language_info": {
   "codemirror_mode": {
    "name": "ipython",
    "version": 2
   },
   "file_extension": ".py",
   "mimetype": "text/x-python",
   "name": "python",
   "nbconvert_exporter": "python",
   "pygments_lexer": "ipython2",
   "version": "2.7.6"
  }
 },
 "nbformat": 4,
 "nbformat_minor": 5
}
